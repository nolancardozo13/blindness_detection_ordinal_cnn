{
 "cells": [
  {
   "cell_type": "code",
   "execution_count": 6,
   "metadata": {},
   "outputs": [
    {
     "name": "stdout",
     "output_type": "stream",
     "text": [
      "1.8.1\n",
      "True\n",
      "-----loaded libraries-----\n"
     ]
    }
   ],
   "source": [
    "# !pip install --upgrade torch torchvision\n",
    "# !pip install sklearn\n",
    "# !pip install efficientnet_pytorch\n",
    "# !pip install scikit-image\n",
    "import numpy as np\n",
    "import pandas as pd\n",
    "from PIL import Image, ImageFile , ImageCms\n",
    "ImageFile.LOAD_TRUNCATED_IMAGES = True\n",
    "import sys\n",
    "import os\n",
    "import time\n",
    "import shutil\n",
    "import matplotlib.pyplot as plt\n",
    "import matplotlib.pyplot as imshow\n",
    "from collections import Counter\n",
    "from random import shuffle\n",
    "\n",
    "from sklearn.model_selection import train_test_split\n",
    "from sklearn.metrics import cohen_kappa_score\n",
    "from efficientnet_pytorch import EfficientNet\n",
    "from efficientnet_pytorch.utils import MemoryEfficientSwish\n",
    "\n",
    "import torch\n",
    "import torch.nn as nn\n",
    "import torch.optim as optim\n",
    "from torch.utils.data import Dataset, DataLoader\n",
    "from torch.utils.data.sampler import  SubsetRandomSampler, WeightedRandomSampler\n",
    "\n",
    "\n",
    "from torchvision import models\n",
    "import torchvision.transforms as transforms\n",
    "\n",
    "import pickle\n",
    "import copy\n",
    "import warnings\n",
    "warnings.filterwarnings('ignore')\n",
    "print(torch.__version__)\n",
    "print(torch.cuda.is_available())\n",
    "\n",
    "print('-----loaded libraries-----')"
   ]
  },
  {
   "cell_type": "code",
   "execution_count": 7,
   "metadata": {},
   "outputs": [
    {
     "name": "stdout",
     "output_type": "stream",
     "text": [
      "-----initialised parameters-----\n"
     ]
    }
   ],
   "source": [
    "model_name = 'blidness_detection_resnext101'\n",
    "random_seed = 123\n",
    "num_classes = 5\n",
    "batch_size = 4\n",
    "epochs = 20\n",
    "lr = 0.000001\n",
    "pre_trained = True\n",
    "model_path = model_name+'.pkl'\n",
    "output_path = model_name+'.csv'\n",
    "\n",
    "print('-----initialised parameters-----')"
   ]
  },
  {
   "cell_type": "code",
   "execution_count": null,
   "metadata": {},
   "outputs": [],
   "source": [
    "def train_validation_split(data_path):\n",
    "    split = []\n",
    "    scores =  pd.read_csv(data_path+'train.csv')\n",
    "    _ , val_idx = train_test_split(np.arange(len(scores.id_code)), test_size=0.2, shuffle=True, stratify= scores.diagnosis)\n",
    "    if not os.path.isdir(data_path+'val_images'):\n",
    "        os.mkdir(data_path+'val_images')\n",
    "    for i, img in enumerate(scores.id_code):\n",
    "        if i in val_idx:\n",
    "            shutil.move(data_path+'train_images/'+img+\".png\", data_path+'val_images/'+img+\".png\")\n",
    "            split.append('val')\n",
    "        else:\n",
    "            split.append('train')\n",
    "    scores['split'] = split\n",
    "    scores.to_csv(data_path+'train_val.csv')"
   ]
  },
  {
   "cell_type": "code",
   "execution_count": null,
   "metadata": {},
   "outputs": [],
   "source": [
    "data_path = \"./dataset/\"\n",
    "train_validation_split(data_path)"
   ]
  },
  {
   "cell_type": "code",
   "execution_count": 3,
   "metadata": {},
   "outputs": [],
   "source": [
    "class BlindnessDataset(Dataset):\n",
    "    def __init__(self, scores_df,data_path,num_classes = 5):\n",
    "        self.scores = scores_df.diagnosis\n",
    "        self.file_names = scores_df.id_code\n",
    "        self.num_classes = num_classes\n",
    "        self.data_path = data_path\n",
    "          \n",
    "    def _transform(self, image):\n",
    "        transform = transforms.Compose([transforms.Resize((512, 512)),\n",
    "                                        transforms.RandomHorizontalFlip(),\n",
    "                                        transforms.ToTensor(),\n",
    "                                        #transforms.Normalize((0.485, 0.456, 0.406), (0.229, 0.224, 0.225))\n",
    "                                        #transforms.Normalize((0.5, 0.5, 0.5), (0.5, 0.5, 0.5))\n",
    "                                       ])\n",
    "        return transform(image)\n",
    "    \n",
    "    def get_train_val_indices(self):\n",
    "        train_idx, val_idx = train_test_split(\n",
    "        np.arange(len(self.scores)),\n",
    "        test_size=0.2,\n",
    "        shuffle=True,\n",
    "        stratify=self.scores)\n",
    "        return train_idx, val_idx\n",
    "        \n",
    "    def __len__(self):\n",
    "        return len(self.file_names)\n",
    "    \n",
    "    def __getitem__(self, index):\n",
    "        file_name = self.file_names[index]\n",
    "        # Get Images of the patient\n",
    "        image = self._transform(Image.open(self.data_path+'train_images/'+file_name+'.png').convert('RGB'))\n",
    "        label = self.scores[index]\n",
    "        levels = [1]*label + [0]*(self.num_classes - 1 - label)\n",
    "        levels = torch.tensor(levels, dtype=torch.float32)\n",
    "        return image, label, levels"
   ]
  },
  {
   "cell_type": "code",
   "execution_count": 4,
   "metadata": {
    "scrolled": true
   },
   "outputs": [],
   "source": [
    "data_path = './dataset/'\n",
    "scores =  pd.read_csv(data_path+'train.csv')\n",
    "dataset = BlindnessDataset(scores_df = scores, data_path = data_path,num_classes=num_classes)\n"
   ]
  },
  {
   "cell_type": "code",
   "execution_count": 5,
   "metadata": {},
   "outputs": [
    {
     "data": {
      "text/plain": [
       "0    1805\n",
       "2     999\n",
       "1     370\n",
       "4     295\n",
       "3     193\n",
       "Name: diagnosis, dtype: int64"
      ]
     },
     "execution_count": 5,
     "metadata": {},
     "output_type": "execute_result"
    }
   ],
   "source": [
    "scores.diagnosis.value_counts()"
   ]
  },
  {
   "cell_type": "code",
   "execution_count": 6,
   "metadata": {},
   "outputs": [
    {
     "name": "stdout",
     "output_type": "stream",
     "text": [
      "The blindess severity for image 1bf30c84bbadis: 4\n"
     ]
    },
    {
     "data": {
      "text/plain": [
       "<matplotlib.image.AxesImage at 0x7f6454fcd310>"
      ]
     },
     "execution_count": 6,
     "metadata": {},
     "output_type": "execute_result"
    },
    {
     "data": {
      "image/png": "[encoded data removed]",
      "text/plain": [
       "<Figure size 432x288 with 1 Axes>"
      ]
     },
     "metadata": {
      "needs_background": "light"
     },
     "output_type": "display_data"
    }
   ],
   "source": [
    "%matplotlib inline\n",
    "idx = 378\n",
    "b = np.rollaxis(dataset[idx][0].numpy(),0,3)\n",
    "print('The blindess severity for image ' + dataset.file_names[idx] +'is: ' + str(dataset[idx][1]))\n",
    "plt.imshow(b)"
   ]
  },
  {
   "cell_type": "code",
   "execution_count": 7,
   "metadata": {},
   "outputs": [],
   "source": [
    "train_idx,val_idx = dataset.get_train_val_indices()"
   ]
  },
  {
   "cell_type": "code",
   "execution_count": 8,
   "metadata": {},
   "outputs": [],
   "source": [
    "train_sampler = SubsetRandomSampler(train_idx)\n",
    "val_sampler = SubsetRandomSampler(val_idx)\n",
    "train_loader = DataLoader(dataset, batch_size = batch_size,sampler = train_sampler)\n",
    "val_loader = DataLoader(dataset, batch_size = batch_size,sampler = val_sampler)"
   ]
  },
  {
   "cell_type": "code",
   "execution_count": 9,
   "metadata": {},
   "outputs": [
    {
     "name": "stdout",
     "output_type": "stream",
     "text": [
      "-----created dataloaders-----\n"
     ]
    }
   ],
   "source": [
    "# def compute_weights(dataset):\n",
    "#     counts = sorted(Counter(dataset.scores).items())\n",
    "#     class_sample_counts = [x[1] for x in counts]\n",
    "#     weights = 1. / torch.tensor(class_sample_counts, dtype=torch.float)\n",
    "#     samples_weights = weights[dataset.scores]\n",
    "#     return weights,samples_weights\n",
    "\n",
    "# weights,samples_weights = compute_weights(train_dataset)\n",
    "# print(sorted(Counter(train_dataset.scores).items()))\n",
    "# print(weights)\n",
    "\n",
    "# sampler = WeightedRandomSampler(\n",
    "#     weights=samples_weights,\n",
    "#     num_samples=len(samples_weights),\n",
    "#     replacement=True)\n",
    "# train_loader = DataLoader(train_dataset, batch_size=batch_size,sampler =sampler)\n",
    "data_loaders = {'train': train_loader, 'val': val_loader}\n",
    "print('-----created dataloaders-----')"
   ]
  },
  {
   "cell_type": "code",
   "execution_count": 10,
   "metadata": {},
   "outputs": [
    {
     "name": "stdout",
     "output_type": "stream",
     "text": [
      "-----created model-----\n"
     ]
    }
   ],
   "source": [
    "class model_classifier(nn.Module):\n",
    "    def __init__(self, num_classes=5, pretrained=True):\n",
    "        super(model_classifier, self).__init__()\n",
    "        resnext = models.resnext50_32x4d(pretrained = pretrained, progress = False)\n",
    "        self.fc_in_features = resnext.fc.in_features\n",
    "        self.features = nn.Sequential(*list(resnext.children())[:-1])\n",
    "        self.num_classes = num_classes\n",
    "        self.classifier = nn.Sequential(\n",
    "            nn.Flatten(),\n",
    "            nn.Linear(self.fc_in_features, (self.num_classes-1)*2)\n",
    "        )\n",
    "\n",
    "    def forward(self, inputs): # inputs.shape = samples x height x width x channels\n",
    "        x = self.features(inputs)\n",
    "        logits = self.classifier(x)\n",
    "        logits = logits.view(-1, (self.num_classes-1), 2)\n",
    "        probas = nn.functional.softmax(logits, dim=2)[:, :, 1]\n",
    "        return logits, probas\n",
    "    \n",
    "model = model_classifier(num_classes=num_classes)\n",
    "print('-----created model-----')"
   ]
  },
  {
   "cell_type": "code",
   "execution_count": 11,
   "metadata": {},
   "outputs": [],
   "source": [
    "# DEFINE THE DEVICE\n",
    "device = torch.device(\"cuda:0\" if torch.cuda.is_available() else \"cpu\")\n",
    "if torch.cuda.device_count()>1:\n",
    "    print('Number of GPUs: '+ str(torch.cuda.device_count()))\n",
    "    model = nn.DataParallel(model)"
   ]
  },
  {
   "cell_type": "code",
   "execution_count": 12,
   "metadata": {},
   "outputs": [
    {
     "data": {
      "text/plain": [
       "tensor([0.7427, 0.8037, 0.9709, 1.0000], device='cuda:0')"
      ]
     },
     "execution_count": 12,
     "metadata": {},
     "output_type": "execute_result"
    }
   ],
   "source": [
    "def task_importance_weights(label_array):\n",
    "    uniq = torch.unique(label_array)\n",
    "    num_examples = label_array.size(0)\n",
    "    m = torch.zeros(uniq.shape[0])\n",
    "    for i, t in enumerate(torch.arange(torch.min(uniq), torch.max(uniq))):\n",
    "        m_k = torch.max(torch.tensor([label_array[label_array > t].size(0), \n",
    "                                      num_examples - label_array[label_array > t].size(0)]))\n",
    "        m[i] = torch.sqrt(m_k.float())\n",
    "\n",
    "    imp = m/torch.max(m)\n",
    "    return imp\n",
    "\n",
    "dt = torch.tensor(scores.diagnosis, dtype=torch.float)\n",
    "imp = task_importance_weights(dt)\n",
    "imp = imp[0:num_classes-1]\n",
    "imp = imp.to(device)\n",
    "imp"
   ]
  },
  {
   "cell_type": "code",
   "execution_count": 13,
   "metadata": {},
   "outputs": [],
   "source": [
    "def cost_fn(logits, levels, imp, reduction = \"mean\"):\n",
    "    val = (-torch.sum((nn.functional.log_softmax(logits, dim=2)[:, :, 1]*levels\n",
    "                      + nn.functional.log_softmax(logits, dim=2)[:, :, 0]*(1-levels))*imp, dim=1))\n",
    "    if reduction == \"none\":\n",
    "        return val\n",
    "    elif reduction == \"mean\":\n",
    "        return torch.mean(val)\n",
    "    else:\n",
    "        return torch.mean(val)\n",
    "    "
   ]
  },
  {
   "cell_type": "code",
   "execution_count": 14,
   "metadata": {},
   "outputs": [],
   "source": [
    "# DEFINE A FUNCTION TO TRAIN THE MODEL\n",
    "def train_model(model, dataloaders, optimizer, lr_scheduler, model_path, imp_weights, output_path, num_epochs=25):\n",
    "    since = time.time()\n",
    "    val_kappa_history = []\n",
    "    val_loss_history = []\n",
    "    train_kappa_history = []\n",
    "    train_loss_history = []\n",
    "\n",
    "    if os.path.exists(model_path):\n",
    "        model.load_state_dict(torch.load(model_path))\n",
    "\n",
    "    best_model_wts = copy.deepcopy(model.state_dict())\n",
    "    best_kappa = 0.0\n",
    "    for epoch in range(1, num_epochs+1):\n",
    "        \n",
    "        print('Epoch {}/{}'.format(epoch, num_epochs))\n",
    "        print('-' * 10)\n",
    "\n",
    "        # Each epoch has a training and validation phase\n",
    "        for phase in ['train', 'val']:\n",
    "            if phase == 'train':\n",
    "                model.train()  # Set model to training mode\n",
    "            else:\n",
    "                model.eval()   # Set model to evaluate mode\n",
    "\n",
    "            running_loss = 0.0\n",
    "            running_corrects = 0\n",
    "            mae = 0\n",
    "            kappa = 0\n",
    "            all_preds = []\n",
    "            all_labels = []\n",
    "            # Iterate over data.\n",
    "            for batch_idx, (inputs, labels, levels) in enumerate(dataloaders[phase]):\n",
    "                inputs = inputs.to(device)\n",
    "                labels = labels.to(device)\n",
    "                levels = levels.to(device)\n",
    "                # zero the parameter gradients\n",
    "                optimizer.zero_grad()\n",
    "\n",
    "                # forward\n",
    "                # track history if only in train\n",
    "                with torch.set_grad_enabled(phase == 'train'):\n",
    "                    # Get model outputs and calculate loss\n",
    "                    # FORWARD AND BACK PROP\n",
    "                    logits, probas = model(inputs)\n",
    "                    loss = cost_fn(logits, levels, imp_weights)\n",
    "                    # Get model predictions\n",
    "                    pred = probas > 0.5\n",
    "                    preds =  torch.sum(pred,dim = 1)\n",
    "                    # backward + optimize only if in training phase\n",
    "                    if phase == 'train':\n",
    "                        loss.backward()\n",
    "                        optimizer.step()\n",
    "\n",
    "                # statistics\n",
    "                running_loss += loss.item() * inputs.size(0)\n",
    "                running_corrects += torch.sum(preds == labels.data)\n",
    "                mae += torch.sum(torch.abs(preds - labels))\n",
    "                all_preds.append(preds)\n",
    "                all_labels.append(labels)\n",
    "            epoch_loss = running_loss / len(dataloaders[phase].sampler)\n",
    "            epoch_acc = running_corrects.double() / len(dataloaders[phase].sampler)\n",
    "            epoch_mae = mae.double() / len(dataloaders[phase].sampler)\n",
    "            all_labels = torch.cat(all_labels, 0)\n",
    "            all_preds = torch.cat(all_preds, 0)\n",
    "            kappa = cohen_kappa_score(all_labels.cpu().numpy(),all_preds.cpu().numpy(), weights = 'quadratic')\n",
    "            if phase == 'val':\n",
    "                lr_scheduler.step(epoch_loss)\n",
    "            if epoch == 1 and phase == 'train':\n",
    "                df = pd.DataFrame({'epoch': epoch,'phase':phase, 'epoch_loss':epoch_loss,'epoch_acc':epoch_acc.cpu().numpy(),'epoch_mae':epoch_mae.cpu().numpy(),'QWK':kappa}, index=[0])\n",
    "                df.to_csv(output_path,mode = 'a',header=True)\t\n",
    "                print('-----wrote first output-----')\n",
    "            else:\n",
    "                df = pd.DataFrame({'epoch': epoch,'phase':phase, 'epoch_loss':epoch_loss,'epoch_acc':epoch_acc.cpu().numpy(),'epoch_mae':epoch_mae.cpu().numpy(),'QWK':kappa}, index=[0])\n",
    "                df.to_csv(output_path,mode = 'a',header=False)\n",
    "\n",
    "            print('{} Loss: {:.4f} - Acc: {:.4f} - MAE: {:.4f} - QWK: {:.4f}'.format(phase, epoch_loss, epoch_acc, epoch_mae, kappa))\n",
    "\n",
    "            # deep copy the model\n",
    "            if phase == 'val' and kappa > best_kappa:\n",
    "                best_kappa = kappa\n",
    "                best_model_wts = copy.deepcopy(model.state_dict())\n",
    "                torch.save(model.state_dict(), model_path)\n",
    "                print('-----saved model------')\n",
    "\n",
    "            if phase == 'train':\n",
    "                train_kappa_history.append(kappa)\n",
    "                train_loss_history.append(epoch_loss)\n",
    "\n",
    "            if phase == 'val':\n",
    "                val_kappa_history.append(kappa)\n",
    "                val_loss_history.append(epoch_loss)\n",
    "            \t\n",
    "    time_elapsed = time.time() - since\n",
    "    print('Training complete in {:.0f}m {:.0f}s'.format(time_elapsed // 60, time_elapsed % 60))\n",
    "    print('Best val QWK: {:4f}'.format(best_kappa))\n",
    "\n",
    "    # load best model weights\n",
    "    model.load_state_dict(best_model_wts)\n",
    "    return model, train_loss_history, val_loss_history, train_kappa_history, val_kappa_history"
   ]
  },
  {
   "cell_type": "code",
   "execution_count": null,
   "metadata": {
    "scrolled": false
   },
   "outputs": [
    {
     "name": "stdout",
     "output_type": "stream",
     "text": [
      "-----start training-----\n",
      "Epoch 1/20\n",
      "----------\n"
     ]
    }
   ],
   "source": [
    "print('-----start training-----')\n",
    "# TRAIN THE NETWORK \n",
    "model = model.to(device)\n",
    "optimizer = optim.Adam(model.parameters(), lr=lr, weight_decay = 0.1)\n",
    "lr_scheduler = optim.lr_scheduler.ReduceLROnPlateau(optimizer, patience=5,verbose = True)\n",
    "model, train_loss_history, val_loss_history, train_kappa_history, val_kappa_history = train_model(model=model, dataloaders=data_loaders, optimizer = optimizer, lr_scheduler=lr_scheduler, model_path = model_path, imp_weights = imp, output_path = output_path, num_epochs=epochs)"
   ]
  }
 ],
 "metadata": {
  "kernelspec": {
   "display_name": "Python 3",
   "language": "python",
   "name": "python3"
  },
  "language_info": {
   "codemirror_mode": {
    "name": "ipython",
    "version": 3
   },
   "file_extension": ".py",
   "mimetype": "text/x-python",
   "name": "python",
   "nbconvert_exporter": "python",
   "pygments_lexer": "ipython3",
   "version": "3.8.8"
  }
 },
 "nbformat": 4,
 "nbformat_minor": 2
}
